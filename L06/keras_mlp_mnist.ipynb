{
 "cells": [
  {
   "cell_type": "markdown",
   "metadata": {},
   "source": [
    "# ITMAL Exercise\n",
    "\n",
    "REVISIONS| |\n",
    "---------| |\n",
    "2018-0318| CEF, initial.\n",
    "2018-0321| CEF, synced with MLP moon exercise.\n",
    "2018-0323| CEF, minor updated and spell checked.\n",
    "2019-0930| CEF, updated for ITMAL E19.\n",
    "\n",
    "\n",
    "## Keras Multi-Layer Perceptrons (MLP's) on MNIST-data\n",
    "\n",
    "\n",
    "### Qa Using a Keras MLP on the MNIST-data\n",
    "\n",
    "Now, make a Keras `Sequential` model and fit it to the MNIST data, re-using as much of the code form the `mlp_moon.ipynb` as you can.\n",
    "\n",
    "Then try to change the number of hidden layers and the neurons in each layer, looking for increases in test accuracy via ``score``. \n",
    "\n",
    "Publish your best score for your model in Blackboard, see link under L06. We use categorical accuracy for score---eventhough a $F_1$ score could say more. Publish you result like\n",
    "```\n",
    "   ITMALGrpXY: score=0.76, a 10-20-30-20-10 MLP, takes looong to train\n",
    "```\n",
    "or similar\n",
    "\n",
    "\n",
    "NOTE: you probably need to scale/normalize the MNIST data before a fit, and no 2D-decision boundaries can be drawn from the 784-dimension MNIST data."
   ]
  },
  {
   "cell_type": "markdown",
   "metadata": {},
   "source": [
    "### Import and normalize data from scikit-learn"
   ]
  },
  {
   "cell_type": "code",
   "execution_count": 4,
   "metadata": {},
   "outputs": [],
   "source": [
    "from sklearn.model_selection import train_test_split\n",
    "import numpy as np\n",
    "from sklearn.datasets import fetch_openml\n",
    "from keras.utils.np_utils import to_categorical\n",
    "from keras.optimizers import Adam\n",
    "\n",
    "np.random.seed(42)\n",
    "\n",
    "# Get MNIST data:\n",
    "X, y = fetch_openml('mnist_784', cache=True, return_X_y=True)\n",
    "X = X.astype('float32') / 255.\n",
    "\n",
    "X_train, X_test, y_train, y_test = train_test_split(X, y, test_size=0.3, random_state=42)\n",
    "\n",
    "y_train_binary = to_categorical(y_train)\n",
    "y_test_binary  = to_categorical(y_test)\n",
    "\n",
    "assert y.ndim==1\n",
    "assert y_train_binary.ndim==2\n",
    "assert y_test_binary.ndim ==2\n",
    "\n",
    "optimizer = Adam(lr=0.1)"
   ]
  },
  {
   "cell_type": "markdown",
   "metadata": {},
   "source": [
    "### Build original model from moon notebook"
   ]
  },
  {
   "cell_type": "code",
   "execution_count": 5,
   "metadata": {},
   "outputs": [
    {
     "name": "stdout",
     "output_type": "stream",
     "text": [
      "WARNING:tensorflow:From D:\\Gnutz\\Anaconda3\\lib\\site-packages\\keras\\backend\\tensorflow_backend.py:74: The name tf.get_default_graph is deprecated. Please use tf.compat.v1.get_default_graph instead.\n",
      "\n",
      "WARNING:tensorflow:From D:\\Gnutz\\Anaconda3\\lib\\site-packages\\keras\\backend\\tensorflow_backend.py:517: The name tf.placeholder is deprecated. Please use tf.compat.v1.placeholder instead.\n",
      "\n",
      "WARNING:tensorflow:From D:\\Gnutz\\Anaconda3\\lib\\site-packages\\keras\\backend\\tensorflow_backend.py:4115: The name tf.random_normal is deprecated. Please use tf.random.normal instead.\n",
      "\n",
      "WARNING:tensorflow:From D:\\Gnutz\\Anaconda3\\lib\\site-packages\\keras\\backend\\tensorflow_backend.py:4138: The name tf.random_uniform is deprecated. Please use tf.random.uniform instead.\n",
      "\n",
      "WARNING:tensorflow:From D:\\Gnutz\\Anaconda3\\lib\\site-packages\\keras\\optimizers.py:790: The name tf.train.Optimizer is deprecated. Please use tf.compat.v1.train.Optimizer instead.\n",
      "\n",
      "WARNING:tensorflow:From D:\\Gnutz\\Anaconda3\\lib\\site-packages\\keras\\backend\\tensorflow_backend.py:3295: The name tf.log is deprecated. Please use tf.math.log instead.\n",
      "\n",
      "WARNING:tensorflow:From D:\\Gnutz\\Anaconda3\\lib\\site-packages\\tensorflow\\python\\ops\\math_grad.py:1250: add_dispatch_support.<locals>.wrapper (from tensorflow.python.ops.array_ops) is deprecated and will be removed in a future version.\n",
      "Instructions for updating:\n",
      "Use tf.where in 2.0, which has the same broadcast rule as np.where\n"
     ]
    }
   ],
   "source": [
    "from keras.models import Sequential\n",
    "from keras.layers import Conv2D, MaxPooling2D, Flatten, Dense, Dropout\n",
    "\n",
    "# Build Keras model\n",
    "model = Sequential()\n",
    "model.add(Dense(input_dim=784, units=8, activation=\"tanh\", kernel_initializer=\"normal\"))\n",
    "model.add(Dense(units=10, activation=\"softmax\"))\n",
    "\n",
    "model.compile(loss='categorical_crossentropy', \n",
    "              optimizer=optimizer, \n",
    "              metrics=['categorical_accuracy', 'mean_squared_error', 'mean_absolute_error'])\n",
    "\n",
    "# Train\n",
    "VERBOSE     = 0\n",
    "EPOCHS      = 35\n",
    "\n",
    "history = model.fit(X_train, y_train_binary, validation_data=(X_test, y_test_binary), epochs=EPOCHS, verbose=VERBOSE)"
   ]
  },
  {
   "cell_type": "markdown",
   "metadata": {},
   "source": [
    "### Evaluate original model"
   ]
  },
  {
   "cell_type": "code",
   "execution_count": 6,
   "metadata": {},
   "outputs": [
    {
     "name": "stdout",
     "output_type": "stream",
     "text": [
      "Test loss:     0.5222885984239124\n",
      "Test accuracy: 0.8703809523809524\n",
      "All scores in history: [0.5222885984239124, 0.8703809523809524, 0.020940466293621632, 0.038392488046771006]\n"
     ]
    }
   ],
   "source": [
    "%matplotlib inline\n",
    "import numpy as np\n",
    "import matplotlib.pyplot as plt\n",
    "\n",
    "#print(history.history)\n",
    "score = model.evaluate(X_test, y_test_binary, verbose=0)\n",
    "\n",
    "print(f\"Test loss:     {score[0]}\") # loss is score 0 by definition?\n",
    "print(f\"Test accuracy: {score[1]}\")\n",
    "print(f\"All scores in history: {score}\")"
   ]
  },
  {
   "cell_type": "markdown",
   "metadata": {},
   "source": [
    "Using the original model designed for the moon data changed to take 784 inputs and have 10 outputs, the model have a loss of 0.6 and an accuracy score of 0.794. To optimize these results we tried another model."
   ]
  },
  {
   "cell_type": "code",
   "execution_count": null,
   "metadata": {},
   "outputs": [],
   "source": [
    "#run this cell to see the score plots\n",
    "N=4\n",
    "FX=60\n",
    "FY=4\n",
    "A=0.4\n",
    "S=4\n",
    "\n",
    "# Plot loss\n",
    "plt.figure(figsize=(FX, FY))\n",
    "ax = plt.subplot(1, N, 2)\n",
    "plt.plot(history.history[\"loss\"]    , \"b--x\", markerfacecolor=(0, 0, 1, A), markersize=S)\n",
    "plt.plot(history.history[\"val_loss\"], \"g-s\" , markerfacecolor=(0, 1, 0, A), markersize=S)\n",
    "plt.legend(loc=\"best\", labels=(\"loss(train)\",\"loss(val)\"))\n",
    "plt.xlabel(\"epoch\")\n",
    "plt.ylabel(\"loss\")\n",
    "plt.title(\"Loss-vs-epoch plot\")\n",
    "plt.show()\n",
    "\n",
    "# Plot all metrics + loss\n",
    "plt.figure(figsize=(FX, FY))\n",
    "ax = plt.subplot(1, N, 3)\n",
    "plt.plot(history.history[\"mean_squared_error\"],      \"r:x\", markerfacecolor=(1, 0, 0, A), markersize=S)\n",
    "plt.plot(history.history[\"val_mean_squared_error\"],  \"r-x\", markerfacecolor=(1, 0, 0, A), markersize=S)\n",
    "plt.plot(history.history[\"mean_absolute_error\"],     \"b:o\", markerfacecolor=(0, 0, 1, A), markersize=S)\n",
    "plt.plot(history.history[\"val_mean_absolute_error\"], \"b-o\", markerfacecolor=(0, 0, 1, A), markersize=S)\n",
    "plt.xlabel(\"epoch\")\n",
    "plt.ylabel(\"error\")\n",
    "plt.xlim((0, EPOCHS))\n",
    "plt.legend(loc=\"best\", labels=(\"mean_squared_error(train)\",  \"mean_squared_error(val)\", \n",
    "                               \"mean_absolute_error(train)\", \"mean_absolute_error(val)\", \n",
    "                               \"loss(categorical_crossentropy,train)\", \"loss(categorical_crossentropy,val)\"))\n",
    "plt.title(\"Error-vs-epoch plot\")\n",
    "plt.show()\n",
    "\n",
    "# Plot accuracy\n",
    "plt.figure(figsize=(FX, FY))\n",
    "ax = plt.subplot(1, N, 4)\n",
    "plt.plot(history.history[\"categorical_accuracy\"],     \"m-x\", markerfacecolor=(1, 0, 1, A), markersize=S)\n",
    "plt.plot(history.history[\"val_categorical_accuracy\"], \"m:x\", markerfacecolor=(1, 0, 1, A), markersize=S)\n",
    "ax.set_ylim([0,1])\n",
    "plt.xlabel(\"epoch\")\n",
    "plt.ylabel(\"accuracy\")\n",
    "plt.xlim((0, EPOCHS))\n",
    "plt.legend(loc=\"lower right\", labels=(\"categorical_accuracy\",))\n",
    "plt.title(\"Accuracy-vs-epoch plot\")\n",
    "plt.show()"
   ]
  },
  {
   "cell_type": "markdown",
   "metadata": {},
   "source": [
    "### Building alternative model\n",
    "For optimization we tried utilizing a convolutional neural network found: https://medium.com/@mjbhobe/mnist-digits-classification-with-keras-ed6c2374bd0e\n",
    "\n",
    "This model require a different input (28, 28, 1) so we are going to reshape the data"
   ]
  },
  {
   "cell_type": "code",
   "execution_count": 14,
   "metadata": {},
   "outputs": [],
   "source": [
    "X, y = fetch_openml('mnist_784', cache=True, return_X_y=True)\n",
    "X = X.astype('float32') / 255.\n",
    "\n",
    "X = X.reshape(X.shape[0], 28, 28, 1)\n",
    "\n",
    "\n",
    "X_train, X_test, y_train, y_test = train_test_split(X, y, test_size=0.3, random_state=42)\n",
    "\n",
    "y_train_binary = to_categorical(y_train)\n",
    "y_test_binary  = to_categorical(y_test)"
   ]
  },
  {
   "cell_type": "code",
   "execution_count": 15,
   "metadata": {},
   "outputs": [],
   "source": [
    " model = Sequential()\n",
    "# add Convolutional layers\n",
    "model.add(Conv2D(filters=32, kernel_size=(3,3), activation='relu', padding='same',\n",
    "                 input_shape=(28, 28, 1)))\n",
    "model.add(MaxPooling2D(pool_size=(2,2)))\n",
    "model.add(Conv2D(filters=64, kernel_size=(3,3), activation='relu', padding='same'))\n",
    "model.add(MaxPooling2D(pool_size=(2,2)))\n",
    "model.add(Conv2D(filters=64, kernel_size=(3,3), activation='relu', padding='same'))\n",
    "model.add(MaxPooling2D(pool_size=(2,2)))    \n",
    "model.add(Flatten())\n",
    "# Densely connected layers\n",
    "model.add(Dense(128, activation='relu'))\n",
    "# output layer\n",
    "model.add(Dense(10, activation='softmax'))\n",
    "# compile with adam optimizer & categorical_crossentropy loss function\n",
    "model.compile( loss='categorical_crossentropy',optimizer=optimizer, \n",
    "              metrics=['categorical_accuracy', 'mean_squared_error', 'mean_absolute_error'])\n",
    "# Train\n",
    "VERBOSE     = 0\n",
    "EPOCHS      = 15\n",
    "\n",
    "history = model.fit(X_train, y_train_binary, validation_data=(X_test, y_test_binary),\\\n",
    "                    epochs=EPOCHS, batch_size=64, verbose=VERBOSE)"
   ]
  },
  {
   "cell_type": "markdown",
   "metadata": {},
   "source": [
    "### Evaluate original model"
   ]
  },
  {
   "cell_type": "code",
   "execution_count": 16,
   "metadata": {},
   "outputs": [
    {
     "name": "stdout",
     "output_type": "stream",
     "text": [
      "Test loss:     14.515496044340587\n",
      "Test accuracy: 0.09942857142857142\n",
      "All scores in history: [14.515496044340587, 0.09942857142857142, 0.18011429912135715, 0.18011429912135715]\n"
     ]
    }
   ],
   "source": [
    "#print(history.history)\n",
    "score = model.evaluate(X_test, y_test_binary, verbose=0)\n",
    "\n",
    "print(f\"Test loss:     {score[0]}\") # loss is score 0 by definition?\n",
    "print(f\"Test accuracy: {score[1]}\")\n",
    "print(f\"All scores in history: {score}\")"
   ]
  }
 ],
 "metadata": {
  "kernelspec": {
   "display_name": "Python 3",
   "language": "python",
   "name": "python3"
  },
  "language_info": {
   "codemirror_mode": {
    "name": "ipython",
    "version": 3
   },
   "file_extension": ".py",
   "mimetype": "text/x-python",
   "name": "python",
   "nbconvert_exporter": "python",
   "pygments_lexer": "ipython3",
   "version": "3.7.3"
  },
  "varInspector": {
   "cols": {
    "lenName": 16,
    "lenType": 16,
    "lenVar": 40
   },
   "kernels_config": {
    "python": {
     "delete_cmd_postfix": "",
     "delete_cmd_prefix": "del ",
     "library": "var_list.py",
     "varRefreshCmd": "print(var_dic_list())"
    },
    "r": {
     "delete_cmd_postfix": ") ",
     "delete_cmd_prefix": "rm(",
     "library": "var_list.r",
     "varRefreshCmd": "cat(var_dic_list()) "
    }
   },
   "types_to_exclude": [
    "module",
    "function",
    "builtin_function_or_method",
    "instance",
    "_Feature"
   ],
   "window_display": false
  }
 },
 "nbformat": 4,
 "nbformat_minor": 2
}
