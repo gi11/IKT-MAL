{
 "cells": [
  {
   "cell_type": "markdown",
   "metadata": {},
   "source": [
    "# ITMAL Exercise\n",
    "\n",
    "REVISIONS||\n",
    "---------||\n",
    "2018-1219| CEF, initial.                  \n",
    "2018-0206| CEF, updated and spell checked. \n",
    "2018-0207| CEF, made Qh optional.\n",
    "2018-0208| CEF, added PYTHONPATH for windows.\n",
    "2018-0212| CEF, small mod in itmalutils/utils.\n",
    "2019-0820| CEF, E19 ITMAL update.\n",
    "\n",
    "## Python Basics\n",
    "\n",
    "### Modules and Packages in Python\n",
    "\n",
    "Reuse of code in Jupyter notebooks can be done by either including a raw python source as a magic command\n",
    "\n",
    "```python\n",
    "%load filename.py\n",
    "```\n",
    "but this just pastes the source into the notebook and creates all kinds of pains regarding code maintenance.\n",
    "\n",
    "A better way is to use a python __module__. A module consists simply (and pythonic) of a directory with a module init file in it (possibly empty) \n",
    "```python\n",
    "libitmal/__init__.py\n",
    "```\n",
    "To this directory you can add modules in form of plain python files, say\n",
    "```python\n",
    "libitmal/utils.py\n",
    "```\n",
    "That's about it! The `libitmal` file tree should now look like\n",
    "```\n",
    "libitmal/\n",
    "├── __init__.py\n",
    "├── __pycache__\n",
    "│   ├── __init__.cpython-36.pyc\n",
    "│   └── utils.cpython-36.pyc\n",
    "├── utils.py\n",
    "```\n",
    "with the cache part only being present once the module has been initialized.\n",
    "\n",
    "You should now be able to use the `libitmal` unit via an import directive, like\n",
    "```python\n",
    "import numpy as np\n",
    "from libitmal import utils as itmalutils\n",
    "\n",
    "print(dir(itmalutils))\n",
    "print(itmalutils.__file__)\n",
    "\n",
    "X = np.array([[1,2],[3,-100]])\n",
    "itmalutils.PrintMatrix(X,\"mylabel=\")\n",
    "itmalutils.TestAll()\n",
    "```\n",
    "\n",
    "#### Qa Load and test the `libitmal` module\n",
    "\n",
    "Try out the `libitmal` module from [GITMAL]. Load this module and run the function\n",
    "\n",
    "```python\n",
    "from libitmal import utils as itmalutils\n",
    "utils.TestAll()\n",
    "```\n",
    "from this module.\n",
    "\n",
    "##### Implementation details\n",
    "\n",
    "Note that there is a python module ___include___ search path, that you may have to investigate and modify. For my Linux setup I have an export or declare statement in my .bashrc file, like\n",
    "\n",
    "```bash\n",
    "declare -x PYTHONPATH=~/ASE/ML/itmal:$PYTHONPATH\n",
    "```\n",
    "but your ```itmal```, the [GITMAL] root dir, may be placed elsewhere.\n",
    "\n",
    "For ___Windows___, you have to add `PYTHONPATH` to your user environment variables...see screenshot below (enlarge by modding the image width-tag or find the original png in the Figs directory).\n",
    "\n",
    "<img src=\"https://itundervisning.ase.au.dk/E19_itmal/L01/Figs/Screenshot_windows_enviroment_variables.png\" style=\"width:800px\">\n",
    "\n",
    "or if you, like me, hate setting up things in a GUI, and prefer a console, try in a CMD on windows\n",
    "\n",
    "```bash\n",
    "CMD> setx.exe PYTHONPATH \"C:\\Users\\auXXYYZZ\\itmal\"\n",
    "```\n",
    "\n",
    "replacing the username and path with whatever you have. If everything fails you could programmatically add your path to the libitmal directory as\n",
    "\n",
    "```python\n",
    "import sys,os\n",
    "sys.path.append(os.path.expanduser('~/itmal'))\n",
    "\n",
    "from libitmal import utils as itmalutils\n",
    "print(dir(itmalutils))\n",
    "print(itmalutils.__file__)\n",
    "```"
   ]
  },
  {
   "cell_type": "markdown",
   "metadata": {},
   "source": [
    "### Qa Answers: \n",
    "\n",
    "The libitmal module is loaded and run as described in the exercise. Note the commented code was a workaround for one of the groupmembers. The test is run as seen from the output, verifying the module is indeed loaded. "
   ]
  },
  {
   "cell_type": "code",
   "execution_count": 1,
   "metadata": {},
   "outputs": [
    {
     "name": "stdout",
     "output_type": "stream",
     "text": [
      "TestPrintMatrix...(no regression testing)\n",
      "X=[[   1.    2.]\n",
      "   [   3. -100.]\n",
      "   [   1.   -1.]]\n",
      "X=[[ 1.  2.]\n",
      "   ...\n",
      "   [ 1. -1.]]\n",
      "X=[[   1.\n",
      "       2.    ]\n",
      "   [   3.0001\n",
      "    -100.    ]\n",
      "   [   1.\n",
      "      -1.    ]]\n",
      "X=[[   1.    2.]\n",
      "   [   3. -100.]\n",
      "   [   1.   -1.]]\n",
      "OK\n",
      "TEST: OK\n",
      "ALL OK\n"
     ]
    }
   ],
   "source": [
    "# TODO: Qa...\n",
    "#import sys, os\n",
    "#sys.path.append(os.path.expanduser('~/ML/itmal'))\n",
    "\n",
    "import sys\n",
    "sys.path.append(\"../include/\")\n",
    "\n",
    "from libitmal import utils as itmalutils\n",
    "itmalutils.TestAll()"
   ]
  },
  {
   "cell_type": "markdown",
   "metadata": {},
   "source": [
    "#### Qb Create your own module, with some functions, and test it\n",
    "\n",
    "Now create your own module, with some dummy functionality. Load it and run you dummy function in a Jupyter Notebook.\n",
    "\n",
    "Keep this module at hand, when coding, and try to capture reusable python functions in it as you invent them!"
   ]
  },
  {
   "cell_type": "markdown",
   "metadata": {},
   "source": [
    "### Qb Answer\n",
    "The module is created with an __init__.py file, and a file \"Module.py\" is placed inside with some dummy functionality in the form of print statements. Let the test below verify it works: "
   ]
  },
  {
   "cell_type": "code",
   "execution_count": 3,
   "metadata": {},
   "outputs": [
    {
     "name": "stdout",
     "output_type": "stream",
     "text": [
      "Hello from my first module...\n",
      "Param true :)\n",
      "Param untrue :(\n"
     ]
    }
   ],
   "source": [
    "# TODO: Qb...\n",
    "# Module source from myModuleInLibitmal.py placed in PYTHONPATH\n",
    "# def sayHello():\n",
    "#    print(\"Hello from my first module...\")\n",
    "\n",
    "# def moreDummyFunc(myParam=True):\n",
    "#    if myParam == True: \n",
    "#        print(\"Param true :)\")\n",
    "#        return\n",
    "    \n",
    "#    print(\"Param untrue :(\")\n",
    "    \n",
    "\n",
    "from myModule import Module as M\n",
    "M.sayHello()\n",
    "M.moreDummyFunc(True)\n",
    "M.moreDummyFunc(False)"
   ]
  },
  {
   "cell_type": "markdown",
   "metadata": {},
   "source": [
    "#### Qc How do you 'recompile' a module?\n",
    "\n",
    "When changing the module code, Jupyter will keep running on the old module. How do you force the Jupyter notebook to re-load the module changes? "
   ]
  },
  {
   "cell_type": "markdown",
   "metadata": {},
   "source": [
    "### Qc Answers\n",
    "\n",
    "One way is to restart the kernel, another is to use the importlib as seen below: "
   ]
  },
  {
   "cell_type": "code",
   "execution_count": 5,
   "metadata": {},
   "outputs": [
    {
     "name": "stdout",
     "output_type": "stream",
     "text": [
      "I have been reloaded!\n"
     ]
    }
   ],
   "source": [
    "# TODO: Qc...\n",
    "# TODO: Qb...\n",
    "# Change to source - added:\n",
    "# def reloadMe():\n",
    "#     print(\"I have been reloaded!\")\n",
    "\n",
    "import importlib\n",
    "importlib.reload(M)\n",
    "M.reloadMe()\n"
   ]
  },
  {
   "cell_type": "markdown",
   "metadata": {},
   "source": [
    "#### [OPTIONAL] Qd Write a Howto on Python Modules a Packages\n",
    "\n",
    "Write a short description of how to use modules in Python (notes on modules path, import directives, directory structure, etc.)"
   ]
  },
  {
   "cell_type": "code",
   "execution_count": null,
   "metadata": {},
   "outputs": [],
   "source": [
    "# TODO: Qd..."
   ]
  },
  {
   "cell_type": "markdown",
   "metadata": {},
   "source": [
    "### Classes in Python\n",
    "\n",
    "Good news: Python got classes. Bad news: they are somewhat obscure compared to C++ classes. \n",
    "\n",
    "Though we will not use object-oriented programming in Python intensively, we still need some basic understanding of Python classes. Let's just dig into a class-demo, here is `MyClass` in Python\n",
    "\n",
    "```python\n",
    "class MyClass:\n",
    "    myvar = \"blah\"\n",
    "\n",
    "    def myfun(self):\n",
    "        print(\"This is a message inside the class.\")\n",
    "\n",
    "myobjectx = MyClass()\n",
    "```\n",
    "\n",
    "#### Qe Extend the class with some public and private functions and member variables\n",
    "\n",
    "How are private function and member variables represented in python classes? \n",
    "\n",
    "What is the meaning of `self` in python classes?\n",
    "\n",
    "What happens to a function inside a class if you forget `self` in the parameter list, like `def myfun():` instead of `def myfun(self):`?\n",
    "\n",
    "[OPTIONAL] What does 'class' and 'instance variables' in python correspond to in C++? Maybe you can figure it out, I did not really get it reading, say this tutorial\n",
    "\n",
    "> https://www.digitalocean.com/community/tutorials/understanding-class-and-instance-variables-in-python-3"
   ]
  },
  {
   "cell_type": "markdown",
   "metadata": {},
   "source": [
    "## Qe) Answers"
   ]
  },
  {
   "cell_type": "code",
   "execution_count": 6,
   "metadata": {},
   "outputs": [
    {
     "name": "stdout",
     "output_type": "stream",
     "text": [
      "hello from the __init__ method or ctor\n",
      "hello from a private method, the private variable is : 32\n",
      "hello from the __init__ method or ctor\n",
      "hello from a private method, the private variable is : hello\n",
      "blah\n",
      "bleh, 32\n"
     ]
    }
   ],
   "source": [
    "# TODO: Qe...\n",
    "class MyClass:\n",
    "    myvar = \"blah\"\n",
    "\n",
    "    def myfun():\n",
    "        print(\"This is a message inside the class.\")\n",
    "    \n",
    "    def __init__(self, myPrivateVar):\n",
    "        print(\"hello from the __init__ method or ctor\")\n",
    "        self.__myPrivateVar = myPrivateVar\n",
    "    \n",
    "    def __myPrivateMethod(self):\n",
    "        print(\"hello from a private method, the private variable is : {}\".format(self.__myPrivateVar))\n",
    "        \n",
    "    def myPubblicMethod(self):\n",
    "        \"hello from a public method\"\n",
    "        self.__myPrivateMethod()\n",
    "        \n",
    "    def __str__(self):\n",
    "        return self.myvar + \", \" + str(self.__myPrivateVar)\n",
    "        \n",
    "myInstance = MyClass(32)\n",
    "myInstance.myPubblicMethod()\n",
    "\n",
    "mySecondInstance = MyClass(\"hello\")\n",
    "mySecondInstance.myPubblicMethod()\n",
    "print(mySecondInstance.myvar)\n",
    "myInstance.myvar = \"bleh\"\n",
    "print(myInstance)"
   ]
  },
  {
   "cell_type": "markdown",
   "metadata": {},
   "source": [
    "##### How are private function and member variables represented in python classes? \n",
    "They are represented using the \" _ \" symbol in front of member names, where \" _ \" is protected, and \" __ \" is private. \n",
    "\n",
    "##### What is the meaning of self in python classes?\n",
    "\"self\" is the reference to the object itself - equal to the meaning of \"this\" in C++. \n",
    "\n",
    "##### What happens to a function inside a class if you forget self in the parameter list, like def myfun(): instead of def myfun(self):?\n",
    "It will still parse \"self\" as the first parameter. The first parameter in any instance method will always be \"self\" - although one can name it something else. "
   ]
  },
  {
   "cell_type": "markdown",
   "metadata": {},
   "source": [
    "#### Qf Extend the class with a Constructor\n",
    "\n",
    "Figure a way to declare/define a constructor (CTOR) in a python class. How is it done in python?\n",
    "\n",
    "Is there a class destructor in python (DTOR)? Give a textual reason why/why-not python has a DTOR?\n",
    "\n",
    "Hint: python is garbage collection like in C#, and do not go into the details of `__del__, ___enter__, __exit__` functions...unless you find it irresistible to investigate."
   ]
  },
  {
   "cell_type": "markdown",
   "metadata": {},
   "source": [
    "## Qf) Answers"
   ]
  },
  {
   "cell_type": "code",
   "execution_count": 8,
   "metadata": {},
   "outputs": [],
   "source": [
    "# TODO: Qf...\n",
    "def __init__(self, myPrivateVar):\n",
    "    print(\"hello from the __init__ method or ctor\")\n",
    "    self.__myPrivateVar = myPrivateVar"
   ]
  },
  {
   "cell_type": "markdown",
   "metadata": {},
   "source": [
    "##### Figure a way to declare/define a constructor (CTOR) in a python class. How is it done in python?\n",
    "From the above code snippet, it is seen the constructor is defined in python as \"\\_\\_init__(self, ...)\". \n",
    "\n",
    "##### Is there a class destructor in python (DTOR)? Give a textual reason why/why-not python has a DTOR?\n",
    "There is one, but as python has built in garbage collection, there is no need to define one explicitly. "
   ]
  },
  {
   "cell_type": "markdown",
   "metadata": {},
   "source": [
    "#### Qg Extend the class with a to-string function\n",
    "\n",
    "Then find a way to serialize a class, that is to make some `tostring()` functionality similar to a C++ \n",
    "\n",
    "```C++\n",
    "friend ostream& operator<<(ostream& s,const MyClass& x)\n",
    "{\n",
    "    return os << ..\n",
    "}\n",
    "```"
   ]
  },
  {
   "cell_type": "markdown",
   "metadata": {},
   "source": [
    "## Qg) Answers\n",
    "#####  Extend the class with a to-string function\n",
    "From the below code snippet, the 2 members of the class is returned as one string, and is defined in "
   ]
  },
  {
   "cell_type": "code",
   "execution_count": 9,
   "metadata": {},
   "outputs": [],
   "source": [
    "# TODO: Qg...\n",
    "def __str__(self):\n",
    "    return self.myvar + \", \" + str(self.__myPrivateVar)"
   ]
  },
  {
   "cell_type": "markdown",
   "metadata": {},
   "source": [
    " "
   ]
  },
  {
   "cell_type": "markdown",
   "metadata": {},
   "source": [
    "#### [OPTIONAL] Qh Write a Howto on Python Classes \n",
    "\n",
    "Write a _How-To use Classes Pythonically_, including a description of public/privacy, constructors/destructors, the meaning of `self`, and inheritance."
   ]
  },
  {
   "cell_type": "code",
   "execution_count": null,
   "metadata": {},
   "outputs": [],
   "source": [
    "# TODO: Qh..."
   ]
  }
 ],
 "metadata": {
  "kernelspec": {
   "display_name": "Python 3",
   "language": "python",
   "name": "python3"
  },
  "language_info": {
   "codemirror_mode": {
    "name": "ipython",
    "version": 3
   },
   "file_extension": ".py",
   "mimetype": "text/x-python",
   "name": "python",
   "nbconvert_exporter": "python",
   "pygments_lexer": "ipython3",
   "version": "3.7.3"
  },
  "varInspector": {
   "cols": {
    "lenName": 16,
    "lenType": 16,
    "lenVar": 40
   },
   "kernels_config": {
    "python": {
     "delete_cmd_postfix": "",
     "delete_cmd_prefix": "del ",
     "library": "var_list.py",
     "varRefreshCmd": "print(var_dic_list())"
    },
    "r": {
     "delete_cmd_postfix": ") ",
     "delete_cmd_prefix": "rm(",
     "library": "var_list.r",
     "varRefreshCmd": "cat(var_dic_list()) "
    }
   },
   "types_to_exclude": [
    "module",
    "function",
    "builtin_function_or_method",
    "instance",
    "_Feature"
   ],
   "window_display": true
  }
 },
 "nbformat": 4,
 "nbformat_minor": 2
}
