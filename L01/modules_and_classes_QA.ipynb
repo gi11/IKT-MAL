{
 "cells": [
  {
   "cell_type": "markdown",
   "metadata": {},
   "source": [
    "# Qa)\n",
    "### Load and test the `libitmal` module\n",
    "\n",
    "Try out the `libitmal` module from [GITMAL]. Load this module and run the function\n",
    "\n",
    "```python\n",
    "from libitmal import utils as itmalutils\n",
    "utils.TestAll()\n",
    "```\n",
    "from this module."
   ]
  },
  {
   "cell_type": "markdown",
   "metadata": {},
   "source": [
    "# Qa Answer)"
   ]
  },
  {
   "cell_type": "code",
   "execution_count": 7,
   "metadata": {},
   "outputs": [
    {
     "name": "stdout",
     "output_type": "stream",
     "text": [
      "TestPrintMatrix...(no regression testing)\n",
      "X=[[   1.    2.]\n",
      "   [   3. -100.]\n",
      "   [   1.   -1.]]\n",
      "X=[[ 1.  2.]\n",
      "   ...\n",
      "   [ 1. -1.]]\n",
      "X=[[   1.\n",
      "       2.    ]\n",
      "   [   3.0001\n",
      "    -100.    ]\n",
      "   [   1.\n",
      "      -1.    ]]\n",
      "X=[[   1.    2.]\n",
      "   [   3. -100.]\n",
      "   [   1.   -1.]]\n",
      "OK\n",
      "TEST: OK\n",
      "ALL OK\n"
     ]
    }
   ],
   "source": [
    "import sys\n",
    "sys.path.append(\"../include/\")\n",
    "\n",
    "from libitmal import utils as itmalutils\n",
    "itmalutils.TestAll()"
   ]
  },
  {
   "cell_type": "markdown",
   "metadata": {},
   "source": [
    "# Qb)\n",
    "### Create your own module, with some functions, and test it\n",
    "\n",
    "Now create your own module, with some dummy functionality. Load it and run you dummy function in a Jupyter Notebook.\n",
    "\n",
    "Keep this module at hand, when coding, and try to capture reusable python functions in it as you invent them!"
   ]
  },
  {
   "cell_type": "markdown",
   "metadata": {},
   "source": [
    "# Qb Answer)\n",
    "\n",
    "Module source from L01.py placed in PYTHONPATH:\n",
    "```\n",
    "def sayHello():\n",
    "   print(\"Hello from module...\")\n",
    "\n",
    "def moreDummyFunc(myParam=True):\n",
    "    if myParam == True: \n",
    "        print(\"Param true :)\")\n",
    "    else:\n",
    "        print(\"Param untrue :(\")\n",
    "```"
   ]
  },
  {
   "cell_type": "code",
   "execution_count": 8,
   "metadata": {},
   "outputs": [
    {
     "name": "stdout",
     "output_type": "stream",
     "text": [
      "Hello from module...\n",
      "Param true :)\n",
      "Param untrue :(\n"
     ]
    }
   ],
   "source": [
    "import L01\n",
    "L01.sayHello()\n",
    "L01.moreDummyFunc(True)\n",
    "L01.moreDummyFunc(False)"
   ]
  },
  {
   "cell_type": "markdown",
   "metadata": {},
   "source": [
    "# Qc)\n",
    "### How do you 'recompile' a module?\n",
    "\n",
    "When changing the module code, Jupyter will keep running on the old module. How do you force the Jupyter notebook to re-load the module changes? "
   ]
  },
  {
   "cell_type": "markdown",
   "metadata": {},
   "source": [
    "# Qc Answer)"
   ]
  },
  {
   "cell_type": "code",
   "execution_count": 9,
   "metadata": {},
   "outputs": [
    {
     "data": {
      "text/plain": [
       "<module 'L01' from '../include\\\\L01.py'>"
      ]
     },
     "execution_count": 9,
     "metadata": {},
     "output_type": "execute_result"
    }
   ],
   "source": [
    "# Method 1\n",
    "import importlib\n",
    "importlib.reload(L01)\n",
    "\n",
    "# Method 2: Restart jupyter kernel"
   ]
  },
  {
   "cell_type": "markdown",
   "metadata": {},
   "source": [
    "# Classes in Python\n",
    "\n",
    "Good news: Python got classes. Bad news: they are somewhat obscure compared to C++ classes. \n",
    "\n",
    "Though we will not use object-oriented programming in Python intensively, we still need some basic understanding of Python classes. Let's just dig into a class-demo, here is `MyClass` in Python\n",
    "\n",
    "```python\n",
    "class MyClass:\n",
    "    myvar = \"blah\"\n",
    "\n",
    "    def myfun(self):\n",
    "        print(\"This is a message inside the class.\")\n",
    "\n",
    "myobjectx = MyClass()\n",
    "```\n",
    "\n",
    "# Qe)\n",
    "### Extend the class with some public and private functions and member variables\n",
    "\n",
    "How are private function and member variables represented in python classes? \n",
    "\n",
    "What is the meaning of `self` in python classes?\n",
    "\n",
    "What happens to a function inside a class if you forget `self` in the parameter list, like `def myfun():` instead of `def myfun(self):`?\n",
    "\n",
    "[OPTIONAL] What does 'class' and 'instance variables' in python correspond to in C++? Maybe you can figure it out, I did not really get it reading, say this tutorial\n",
    "\n",
    "> https://www.digitalocean.com/community/tutorials/understanding-class-and-instance-variables-in-python-3"
   ]
  },
  {
   "cell_type": "markdown",
   "metadata": {},
   "source": [
    "# Qe Answers)"
   ]
  },
  {
   "cell_type": "code",
   "execution_count": 10,
   "metadata": {},
   "outputs": [
    {
     "name": "stdout",
     "output_type": "stream",
     "text": [
      "hello from the __init__ method or ctor\n",
      "hello from a private method, the private variable is : 32\n",
      "hello from the __init__ method or ctor\n",
      "hello from a private method, the private variable is : hello\n",
      "blah\n",
      "bleh, 32\n"
     ]
    }
   ],
   "source": [
    "class MyClass:\n",
    "    myvar = \"blah\"\n",
    "\n",
    "    def myfun():\n",
    "        print(\"This is a message inside the class.\")\n",
    "    \n",
    "    def __init__(self, myPrivateVar): # Qf\n",
    "        print(\"hello from the __init__ method or ctor\")\n",
    "        self.__myPrivateVar = myPrivateVar\n",
    "    \n",
    "    def __myPrivateMethod(self):\n",
    "        print(\"hello from a private method, the private variable is : {}\".format(self.__myPrivateVar))\n",
    "        \n",
    "    def myPubblicMethod(self):\n",
    "        \"hello from a public method\"\n",
    "        self.__myPrivateMethod()\n",
    "        \n",
    "    def __str__(self): # Qg\n",
    "        return self.myvar + \", \" + str(self.__myPrivateVar)\n",
    "        \n",
    "myInstance = MyClass(32)\n",
    "myInstance.myPubblicMethod()\n",
    "\n",
    "mySecondInstance = MyClass(\"hello\")\n",
    "mySecondInstance.myPubblicMethod()\n",
    "print(mySecondInstance.myvar)\n",
    "myInstance.myvar = \"bleh\"\n",
    "print(myInstance)"
   ]
  },
  {
   "cell_type": "markdown",
   "metadata": {},
   "source": [
    "##### How are private function and member variables represented in python classes? \n",
    "They are represented using the \" _ \" symbol in front of member names, where \" _ \" is protected, and \" __ \" is private. \n",
    "\n",
    "##### What is the meaning of self in python classes?\n",
    "\"self\" is the reference to the object itself - equal to the meaning of \"this\" in C++. \n",
    "\n",
    "##### What happens to a function inside a class if you forget self in the parameter list, like def myfun(): instead of def myfun(self):?\n",
    "It will still parse \"self\" as the first parameter. The first parameter in any instance method will always be \"self\" - although one can name it something else. "
   ]
  },
  {
   "cell_type": "markdown",
   "metadata": {},
   "source": [
    "# Qf )\n",
    "### Extend the class with a Constructor\n",
    "\n",
    "Figure a way to declare/define a constructor (CTOR) in a python class. How is it done in python?\n",
    "\n",
    "Is there a class destructor in python (DTOR)? Give a textual reason why/why-not python has a DTOR?\n",
    "\n",
    "Hint: python is garbage collection like in C#, and do not go into the details of `__del__, ___enter__, __exit__` functions...unless you find it irresistible to investigate."
   ]
  },
  {
   "cell_type": "markdown",
   "metadata": {},
   "source": [
    "# Qf Answers)\n",
    "##### Figure a way to declare/define a constructor (CTOR) in a python class. How is it done in python?\n",
    "\n",
    "```\n",
    "def __init__(self, myPrivateVar):\n",
    "    print(\"hello from the __init__ method or ctor\")\n",
    "    self.__myPrivateVar = myPrivateVar\n",
    "```\n",
    "\n",
    "\n",
    "From the above code snippet, it is seen the constructor is defined in python as \"\\_\\_init__(self, ...)\". \n",
    "\n",
    "\n",
    "##### Is there a class destructor in python (DTOR)? Give a textual reason why/why-not python has a DTOR?\n",
    "There is one, but as python has built in garbage collection, there is no need to define one explicitly. \n",
    "\n"
   ]
  },
  {
   "cell_type": "markdown",
   "metadata": {},
   "source": [
    "# Qg)\n",
    "### Extend the class with a to-string function\n",
    "\n",
    "Then find a way to serialize a class, that is to make some `tostring()` functionality similar to a C++ \n",
    "\n",
    "```C++\n",
    "friend ostream& operator<<(ostream& s,const MyClass& x)\n",
    "{\n",
    "    return os << ..\n",
    "}\n",
    "```"
   ]
  },
  {
   "cell_type": "markdown",
   "metadata": {},
   "source": [
    "# Qg Answers)\n",
    "###  Extend the class with a to-string function\n",
    "```\n",
    "    def __str__(self):\n",
    "        return self.myvar + \", \" + str(self.__myPrivateVar)\n",
    "```\n",
    "From the above code snippet, the 2 members of the class is returned as one string, and is defined in  "
   ]
  }
 ],
 "metadata": {
  "kernelspec": {
   "display_name": "Python 3",
   "language": "python",
   "name": "python3"
  },
  "language_info": {
   "codemirror_mode": {
    "name": "ipython",
    "version": 3
   },
   "file_extension": ".py",
   "mimetype": "text/x-python",
   "name": "python",
   "nbconvert_exporter": "python",
   "pygments_lexer": "ipython3",
   "version": "3.7.3"
  }
 },
 "nbformat": 4,
 "nbformat_minor": 2
}
