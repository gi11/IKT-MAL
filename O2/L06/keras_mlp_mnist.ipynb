{
 "cells": [
  {
   "cell_type": "markdown",
   "metadata": {},
   "source": [
    "# ITMAL Exercise\n",
    "\n",
    "REVISIONS| |\n",
    "---------| |\n",
    "2018-0318| CEF, initial.\n",
    "2018-0321| CEF, synced with MLP moon exercise.\n",
    "2018-0323| CEF, minor updated and spell checked.\n",
    "2019-0930| CEF, updated for ITMAL E19.\n",
    "\n",
    "\n",
    "## Keras Multi-Layer Perceptrons (MLP's) on MNIST-data\n",
    "\n",
    "\n",
    "### Qa Using a Keras MLP on the MNIST-data\n",
    "\n",
    "Now, make a Keras `Sequential` model and fit it to the MNIST data, re-using as much of the code form the `mlp_moon.ipynb` as you can.\n",
    "\n",
    "Then try to change the number of hidden layers and the neurons in each layer, looking for increases in test accuracy via ``score``. \n",
    "\n",
    "Publish your best score for your model in Blackboard, see link under L06. We use categorical accuracy for score---eventhough a $F_1$ score could say more. Publish you result like\n",
    "```\n",
    "   ITMALGrpXY: score=0.76, a 10-20-30-20-10 MLP, takes looong to train\n",
    "```\n",
    "or similar\n",
    "\n",
    "\n",
    "NOTE: you probably need to scale/normalize the MNIST data before a fit, and no 2D-decision boundaries can be drawn from the 784-dimension MNIST data."
   ]
  },
  {
   "cell_type": "markdown",
   "metadata": {},
   "source": [
    "### Import and normalize data from scikit-learn"
   ]
  },
  {
   "cell_type": "code",
   "execution_count": 1,
   "metadata": {},
   "outputs": [
    {
     "name": "stderr",
     "output_type": "stream",
     "text": [
      "Using TensorFlow backend.\n"
     ]
    }
   ],
   "source": [
    "from sklearn.model_selection import train_test_split\n",
    "import numpy as np\n",
    "from sklearn.datasets import fetch_openml\n",
    "from keras.utils.np_utils import to_categorical\n",
    "from keras.optimizers import Adam\n",
    "\n",
    "np.random.seed(42)\n",
    "\n",
    "# Get MNIST data:\n",
    "X, y = fetch_openml('mnist_784', cache=True, return_X_y=True)\n",
    "X = X.astype('float32') / 255.\n",
    "\n",
    "X_train, X_test, y_train, y_test = train_test_split(X, y, test_size=0.3, random_state=42)\n",
    "\n",
    "\n",
    "\n",
    "y_train_binary = to_categorical(y_train)\n",
    "y_test_binary  = to_categorical(y_test)\n",
    "\n",
    "assert y.ndim==1\n",
    "assert y_train_binary.ndim==2\n",
    "assert y_test_binary.ndim ==2"
   ]
  },
  {
   "cell_type": "markdown",
   "metadata": {},
   "source": [
    "### Build original model from moon notebook"
   ]
  },
  {
   "cell_type": "code",
   "execution_count": 2,
   "metadata": {},
   "outputs": [
    {
     "name": "stdout",
     "output_type": "stream",
     "text": [
      "WARNING:tensorflow:From D:\\Gnutz\\Anaconda3\\lib\\site-packages\\keras\\backend\\tensorflow_backend.py:74: The name tf.get_default_graph is deprecated. Please use tf.compat.v1.get_default_graph instead.\n",
      "\n",
      "WARNING:tensorflow:From D:\\Gnutz\\Anaconda3\\lib\\site-packages\\keras\\backend\\tensorflow_backend.py:517: The name tf.placeholder is deprecated. Please use tf.compat.v1.placeholder instead.\n",
      "\n",
      "WARNING:tensorflow:From D:\\Gnutz\\Anaconda3\\lib\\site-packages\\keras\\backend\\tensorflow_backend.py:4115: The name tf.random_normal is deprecated. Please use tf.random.normal instead.\n",
      "\n",
      "WARNING:tensorflow:From D:\\Gnutz\\Anaconda3\\lib\\site-packages\\keras\\backend\\tensorflow_backend.py:4138: The name tf.random_uniform is deprecated. Please use tf.random.uniform instead.\n",
      "\n",
      "WARNING:tensorflow:From D:\\Gnutz\\Anaconda3\\lib\\site-packages\\keras\\optimizers.py:790: The name tf.train.Optimizer is deprecated. Please use tf.compat.v1.train.Optimizer instead.\n",
      "\n",
      "WARNING:tensorflow:From D:\\Gnutz\\Anaconda3\\lib\\site-packages\\keras\\backend\\tensorflow_backend.py:3295: The name tf.log is deprecated. Please use tf.math.log instead.\n",
      "\n",
      "WARNING:tensorflow:From D:\\Gnutz\\Anaconda3\\lib\\site-packages\\tensorflow\\python\\ops\\math_grad.py:1250: add_dispatch_support.<locals>.wrapper (from tensorflow.python.ops.array_ops) is deprecated and will be removed in a future version.\n",
      "Instructions for updating:\n",
      "Use tf.where in 2.0, which has the same broadcast rule as np.where\n"
     ]
    }
   ],
   "source": [
    "from keras.models import Sequential\n",
    "from keras.layers import Conv2D, MaxPooling2D, Flatten, Dense, Dropout\n",
    "\n",
    "# Build Keras model\n",
    "model = Sequential()\n",
    "model.add(Dense(input_dim=784, units=8, activation=\"tanh\", kernel_initializer=\"normal\"))\n",
    "model.add(Dense(units=10, activation=\"softmax\"))\n",
    "\n",
    "model.compile(loss='categorical_crossentropy', \n",
    "              optimizer=Adam(lr=0.1), \n",
    "              metrics=['categorical_accuracy', 'mean_squared_error', 'mean_absolute_error'])\n",
    "\n",
    "# Train\n",
    "VERBOSE     = 0\n",
    "EPOCHS      = 35\n",
    "\n",
    "history = model.fit(X_train, y_train_binary, validation_data=(X_test, y_test_binary), epochs=EPOCHS, verbose=VERBOSE)"
   ]
  },
  {
   "cell_type": "markdown",
   "metadata": {},
   "source": [
    "### Evaluate original model"
   ]
  },
  {
   "cell_type": "code",
   "execution_count": 3,
   "metadata": {},
   "outputs": [
    {
     "name": "stdout",
     "output_type": "stream",
     "text": [
      "Test loss:     0.542854045697621\n",
      "Test accuracy: 0.8466666666666667\n",
      "All scores in history: [0.542854045697621, 0.8466666666666667, 0.023199272668077833, 0.04052264713957196]\n"
     ]
    }
   ],
   "source": [
    "%matplotlib inline\n",
    "import numpy as np\n",
    "import matplotlib.pyplot as plt\n",
    "\n",
    "#print(history.history)\n",
    "score = model.evaluate(X_test, y_test_binary, verbose=0)\n",
    "\n",
    "print(f\"Test loss:     {score[0]}\") # loss is score 0 by definition?\n",
    "print(f\"Test accuracy: {score[1]}\")\n",
    "print(f\"All scores in history: {score}\")"
   ]
  },
  {
   "cell_type": "markdown",
   "metadata": {},
   "source": [
    "Using the original model designed for the moon data changed to take 784 inputs and have 10 outputs, the model have a loss of 0.543 and an accuracy score of 0.847. To optimize these results we tried another model."
   ]
  },
  {
   "cell_type": "markdown",
   "metadata": {},
   "source": [
    "### Building alternative model\n",
    "For optimization we tried utilizing a convolutional neural network found: https://medium.com/@mjbhobe/mnist-digits-classification-with-keras-ed6c2374bd0e\n",
    "\n",
    "This model uses a 2D convolutional neural network, so it require a different input (28, 28, 1) so we are going to reshape and normalize the data:"
   ]
  },
  {
   "cell_type": "code",
   "execution_count": 4,
   "metadata": {},
   "outputs": [],
   "source": [
    "X, y = fetch_openml('mnist_784', cache=True, return_X_y=True)\n",
    "X = X.reshape((X.shape[0], 28, 28, 1)).astype('float32')\n",
    "X /= 255\n",
    "\n",
    "# split dataset into training and test data\n",
    "X_train, X_test, y_train, y_test = train_test_split(X, y, test_size=0.3, random_state=42)\n",
    "\n",
    "#one-hot encode classes\n",
    "y_train_binary = to_categorical(y_train)\n",
    "y_test_binary  = to_categorical(y_test)\n",
    "\n",
    "assert y.ndim==1\n",
    "assert y_train_binary.ndim==2\n",
    "assert y_test_binary.ndim ==2"
   ]
  },
  {
   "cell_type": "code",
   "execution_count": 5,
   "metadata": {},
   "outputs": [
    {
     "name": "stdout",
     "output_type": "stream",
     "text": [
      "WARNING:tensorflow:From D:\\Gnutz\\Anaconda3\\lib\\site-packages\\keras\\backend\\tensorflow_backend.py:3976: The name tf.nn.max_pool is deprecated. Please use tf.nn.max_pool2d instead.\n",
      "\n",
      "WARNING:tensorflow:From D:\\Gnutz\\Anaconda3\\lib\\site-packages\\keras\\backend\\tensorflow_backend.py:3445: calling dropout (from tensorflow.python.ops.nn_ops) with keep_prob is deprecated and will be removed in a future version.\n",
      "Instructions for updating:\n",
      "Please use `rate` instead of `keep_prob`. Rate should be set to `rate = 1 - keep_prob`.\n",
      "Train on 49000 samples, validate on 21000 samples\n",
      "Epoch 1/15\n",
      "49000/49000 [==============================] - 119s 2ms/step - loss: 0.2691 - categorical_accuracy: 0.9173 - val_loss: 0.0850 - val_categorical_accuracy: 0.9744\n",
      "Epoch 2/15\n",
      "49000/49000 [==============================] - 95s 2ms/step - loss: 0.0846 - categorical_accuracy: 0.9734 - val_loss: 0.0538 - val_categorical_accuracy: 0.9837\n",
      "Epoch 3/15\n",
      "49000/49000 [==============================] - 95s 2ms/step - loss: 0.0623 - categorical_accuracy: 0.9801 - val_loss: 0.0461 - val_categorical_accuracy: 0.9847\n",
      "Epoch 4/15\n",
      "49000/49000 [==============================] - 102s 2ms/step - loss: 0.0501 - categorical_accuracy: 0.9846 - val_loss: 0.0422 - val_categorical_accuracy: 0.9867\n",
      "Epoch 5/15\n",
      "49000/49000 [==============================] - 103s 2ms/step - loss: 0.0422 - categorical_accuracy: 0.9869 - val_loss: 0.0426 - val_categorical_accuracy: 0.9877\n",
      "Epoch 6/15\n",
      "49000/49000 [==============================] - 104s 2ms/step - loss: 0.0379 - categorical_accuracy: 0.9878 - val_loss: 0.0382 - val_categorical_accuracy: 0.9880\n",
      "Epoch 7/15\n",
      "49000/49000 [==============================] - 102s 2ms/step - loss: 0.0343 - categorical_accuracy: 0.9891 - val_loss: 0.0351 - val_categorical_accuracy: 0.9887\n",
      "Epoch 8/15\n",
      "49000/49000 [==============================] - 103s 2ms/step - loss: 0.0306 - categorical_accuracy: 0.9904 - val_loss: 0.0335 - val_categorical_accuracy: 0.9897\n",
      "Epoch 9/15\n",
      "49000/49000 [==============================] - 97s 2ms/step - loss: 0.0284 - categorical_accuracy: 0.9902 - val_loss: 0.0319 - val_categorical_accuracy: 0.9903\n",
      "Epoch 10/15\n",
      "49000/49000 [==============================] - 97s 2ms/step - loss: 0.0257 - categorical_accuracy: 0.9916 - val_loss: 0.0390 - val_categorical_accuracy: 0.9886\n",
      "Epoch 11/15\n",
      "49000/49000 [==============================] - 97s 2ms/step - loss: 0.0220 - categorical_accuracy: 0.9925 - val_loss: 0.0364 - val_categorical_accuracy: 0.9897\n",
      "Epoch 12/15\n",
      "49000/49000 [==============================] - 96s 2ms/step - loss: 0.0215 - categorical_accuracy: 0.9928 - val_loss: 0.0332 - val_categorical_accuracy: 0.9900\n",
      "Epoch 13/15\n",
      "49000/49000 [==============================] - 97s 2ms/step - loss: 0.0217 - categorical_accuracy: 0.9929 - val_loss: 0.0355 - val_categorical_accuracy: 0.9895\n",
      "Epoch 14/15\n",
      "49000/49000 [==============================] - 98s 2ms/step - loss: 0.0185 - categorical_accuracy: 0.9940 - val_loss: 0.0348 - val_categorical_accuracy: 0.9903\n",
      "Epoch 15/15\n",
      "49000/49000 [==============================] - 96s 2ms/step - loss: 0.0187 - categorical_accuracy: 0.9936 - val_loss: 0.0427 - val_categorical_accuracy: 0.9876\n"
     ]
    }
   ],
   "source": [
    "#Build and compile model\n",
    "# https://medium.com/@mjbhobe/mnist-digits-classification-with-keras-ed6c2374bd0e\n",
    "model = Sequential()\n",
    "model.add(Conv2D(30, (5, 5), input_shape=(28, 28, 1), activation='relu'))\n",
    "model.add(MaxPooling2D())\n",
    "model.add(Conv2D(15, (3, 3), activation='relu'))\n",
    "model.add(MaxPooling2D())\n",
    "model.add(Dropout(0.2))\n",
    "model.add(Flatten())\n",
    "model.add(Dense(128, activation='relu'))\n",
    "model.add(Dense(50, activation='relu'))\n",
    "model.add(Dense(10, activation='softmax'))\n",
    "# Compile model\n",
    "model.compile(loss='categorical_crossentropy', optimizer='adam', metrics=['categorical_accuracy'])\n",
    "\n",
    "\n",
    "# Train\n",
    "EPOCHS      = 15\n",
    "history = model.fit(X_train, y_train_binary, validation_data=(X_test, y_test_binary),\\\n",
    "                    epochs=EPOCHS, batch_size=64)"
   ]
  },
  {
   "cell_type": "markdown",
   "metadata": {},
   "source": [
    "### Evaluate the alternative model"
   ]
  },
  {
   "cell_type": "code",
   "execution_count": 6,
   "metadata": {},
   "outputs": [
    {
     "name": "stdout",
     "output_type": "stream",
     "text": [
      "Test loss:     0.042650930428374395\n",
      "Test accuracy: 0.9875714285714285\n",
      "All scores in history: [0.042650930428374395, 0.9875714285714285]\n"
     ]
    }
   ],
   "source": [
    "#print(history.history)\n",
    "score = model.evaluate(X_test, y_test_binary, verbose=0)\n",
    "\n",
    "print(f\"Test loss:     {score[0]}\") # loss is score 0 by definition?\n",
    "print(f\"Test accuracy: {score[1]}\")\n",
    "print(f\"All scores in history: {score}\")"
   ]
  },
  {
   "cell_type": "markdown",
   "metadata": {},
   "source": [
    "With a loss of 0.043 and accuracy 0.988, the convolutional nueral network performs better than the original configuration with a loss of  0.543 and an accuracy score of 0.847. We need to reshape our data, and the model takes a considerably long time to train, in this case 15 minutes."
   ]
  }
 ],
 "metadata": {
  "kernelspec": {
   "display_name": "Python 3",
   "language": "python",
   "name": "python3"
  },
  "language_info": {
   "codemirror_mode": {
    "name": "ipython",
    "version": 3
   },
   "file_extension": ".py",
   "mimetype": "text/x-python",
   "name": "python",
   "nbconvert_exporter": "python",
   "pygments_lexer": "ipython3",
   "version": "3.7.3"
  },
  "varInspector": {
   "cols": {
    "lenName": 16,
    "lenType": 16,
    "lenVar": 40
   },
   "kernels_config": {
    "python": {
     "delete_cmd_postfix": "",
     "delete_cmd_prefix": "del ",
     "library": "var_list.py",
     "varRefreshCmd": "print(var_dic_list())"
    },
    "r": {
     "delete_cmd_postfix": ") ",
     "delete_cmd_prefix": "rm(",
     "library": "var_list.r",
     "varRefreshCmd": "cat(var_dic_list()) "
    }
   },
   "types_to_exclude": [
    "module",
    "function",
    "builtin_function_or_method",
    "instance",
    "_Feature"
   ],
   "window_display": false
  }
 },
 "nbformat": 4,
 "nbformat_minor": 2
}
